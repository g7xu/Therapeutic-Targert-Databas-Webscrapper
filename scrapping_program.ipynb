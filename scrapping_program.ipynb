{
 "cells": [
  {
   "cell_type": "code",
   "execution_count": 96,
   "metadata": {},
   "outputs": [],
   "source": [
    "# importing package\n",
    "import pandas as pd\n",
    "import numpy as np\n",
    "import bs4\n",
    "import requests\n",
    "import biothings.utils.dataload as bioloading\n",
    "import re\n",
    "import os"
   ]
  },
  {
   "cell_type": "code",
   "execution_count": 97,
   "metadata": {},
   "outputs": [],
   "source": [
    "# predefined variable\n",
    "TTD_WEB_LINK = \"https://db.idrblab.net/ttd/full-data-download\""
   ]
  },
  {
   "cell_type": "markdown",
   "metadata": {
    "vscode": {
     "languageId": "raw"
    }
   },
   "source": [
    "# Predefined function"
   ]
  },
  {
   "cell_type": "code",
   "execution_count": 98,
   "metadata": {},
   "outputs": [],
   "source": [
    "def loadingPage(url):\n",
    "    request = requests.get(url)\n",
    "    return bs4.BeautifulSoup(request.text)\n",
    "\n",
    "def obtain_txt_file(txt_url):\n",
    "    # creating a new output directory if needed\n",
    "    folder_path = os.getcwd() + '/output_raw_txtFile'\n",
    "    if not os.path.exists(folder_path):\n",
    "        os.makedirs(folder_path)\n",
    "\n",
    "    # write down the txt file\n",
    "    output_fileName = txt_url[txt_url.rfind('/')+1:txt_url.rfind('.')]\n",
    "    with open(f'output_raw_txtFile/f{output_fileName}.txt', 'w') as file:\n",
    "        file.write(requests.get(txt_url).text)"
   ]
  },
  {
   "cell_type": "markdown",
   "metadata": {},
   "source": [
    "# Actual Program"
   ]
  },
  {
   "cell_type": "code",
   "execution_count": 100,
   "metadata": {},
   "outputs": [
    {
     "name": "stdout",
     "output_type": "stream",
     "text": [
      "start downloading file...\n",
      "processed ['https://db.idrblab.net//ttd/sites/default/files/ttd_database/P1-01-TTD_target_download.txt', 'https://db.idrblab.net//ttd/sites/default/files/ttd_database/P1-02-TTD_drug_download.txt', 'https://db.idrblab.net//ttd/sites/default/files/ttd_database/P1-03-TTD_crossmatching.txt', 'https://db.idrblab.net//ttd/sites/default/files/ttd_database/P1-04-Drug_synonyms.txt', 'https://db.idrblab.net//ttd/sites/default/files/ttd_database/P1-05-Drug_disease.txt', 'https://db.idrblab.net//ttd/sites/default/files/ttd_database/P1-06-Target_disease.txt', 'https://db.idrblab.net//ttd/sites/default/files/ttd_database/P1-08-Biomarker_disease.txt', 'https://db.idrblab.net//ttd/sites/default/files/ttd_database/P1-09-Target_compound_activity.txt', 'https://db.idrblab.net//ttd/sites/default/files/ttd_database/P2-01-TTD_uniprot_all.txt', 'https://db.idrblab.net//ttd/sites/default/files/ttd_database/P2-02-TTD_uniprot_successful.txt', 'https://db.idrblab.net//ttd/sites/default/files/ttd_database/P2-03-TTD_uniprot_clinical.txt', 'https://db.idrblab.net//ttd/sites/default/files/ttd_database/P2-04-TTD_uniprot_patented.txt', 'https://db.idrblab.net//ttd/sites/default/files/ttd_database/P2-05-TTD_uniprot_research.txt', 'https://db.idrblab.net//ttd/sites/default/files/ttd_database/P2-06-TTD_sequence_all.txt', 'https://db.idrblab.net//ttd/sites/default/files/ttd_database/P2-07-TTD_sequence_successful.txt', 'https://db.idrblab.net//ttd/sites/default/files/ttd_database/P2-08-TTD_sequence_clinical.txt', 'https://db.idrblab.net//ttd/sites/default/files/ttd_database/P2-09-TTD_sequence_patented.txt', 'https://db.idrblab.net//ttd/sites/default/files/ttd_database/P2-10-TTD_sequence_research.txt', 'https://db.idrblab.net//ttd/sites/default/files/ttd_database/P3-06-Biologic-drug-sequence.txt', 'https://db.idrblab.net//ttd/sites/default/files/ttd_database/P3-07-Approved_smi_inchi.txt', 'https://db.idrblab.net//ttd/sites/default/files/ttd_database/P4-01-Target-KEGGpathway_all.txt', 'https://db.idrblab.net//ttd/sites/default/files/ttd_database/P4-02-Target-KEGGpathway_success.txt', 'https://db.idrblab.net//ttd/sites/default/files/ttd_database/P4-03-Target-KEGGpathway_clinical.txt', 'https://db.idrblab.net//ttd/sites/default/files/ttd_database/P4-04-Target-KEGGpathway_patented.txt', 'https://db.idrblab.net//ttd/sites/default/files/ttd_database/P4-05-Target-KEGGpathway_research.txt', 'https://db.idrblab.net//ttd/sites/default/files/ttd_database/P4-06-Target-wikipathway_all.txt', 'https://db.idrblab.net//ttd/sites/default/files/ttd_database/P4-07-Target-wikipathway_success.txt', 'https://db.idrblab.net//ttd/sites/default/files/ttd_database/P4-08-Target-wikipathway_clinical.txt', 'https://db.idrblab.net//ttd/sites/default/files/ttd_database/P4-09-Target-wikipathway_patented.txt', 'https://db.idrblab.net//ttd/sites/default/files/ttd_database/P4-10-Target-wikipathway_research.txt']\n",
      "can't process ['https://db.idrblab.net//ttd/sites/default/files/ttd_database/P1-07-Drug-TargetMapping.xlsx', 'https://db.idrblab.net//ttd/sites/default/files/ttd_database/P3-01-All.sdf', 'https://db.idrblab.net//ttd/sites/default/files/ttd_database/P3-02-Approved.sdf', 'https://db.idrblab.net//ttd/sites/default/files/ttd_database/P3-03-Clinical.sdf', 'https://db.idrblab.net//ttd/sites/default/files/ttd_database/P3-04-Patented.sdf', 'https://db.idrblab.net//ttd/sites/default/files/ttd_database/P3-05-Experimental.sdf', 'https://db.idrblab.net//ttd/sites/default/files/ttd_database/P5-01-Table1.xls', 'https://db.idrblab.net//ttd/sites/default/files/ttd_database/P5-02-Table2.xls', 'https://db.idrblab.net//ttd/sites/default/files/ttd_database/P5-03-Table3.xls', 'https://db.idrblab.net//ttd/sites/default/files/ttd_database/P5-04-Table4.xls', 'https://db.idrblab.net//ttd/sites/default/files/ttd_database/P5-05-Table5.xls', 'https://db.idrblab.net//ttd/sites/default/files/ttd_database/P5-06-Table6.xls', 'https://db.idrblab.net//ttd/sites/default/files/ttd_database/P5-07-Table7.xls']\n"
     ]
    }
   ],
   "source": [
    "# loading the whole Web Page\n",
    "main_webPage = loadingPage(TTD_WEB_LINK)\n",
    "\n",
    "# collecting link to each individual txt file\n",
    "doc_collections = main_webPage.findAll('td', attrs={'class' : \"v-center\"})\n",
    "\n",
    "\n",
    "# downloading file\n",
    "print('start downloading file...')\n",
    "nontxt_files = []\n",
    "txt_files = []\n",
    "for doc in doc_collections:\n",
    "    txt_url = 'https://db.idrblab.net/' + doc.find('a').get('href')\n",
    "\n",
    "    if txt_url[txt_url.rfind('.')+1:] == 'txt':\n",
    "        obtain_txt_file(txt_url)\n",
    "        txt_files.append(txt_url)\n",
    "    else:\n",
    "        nontxt_files.append(txt_url)\n",
    "print(f'processed {txt_files}')\n",
    "print(f\"can't process {nontxt_files}\")"
   ]
  },
  {
   "cell_type": "code",
   "execution_count": 106,
   "metadata": {},
   "outputs": [],
   "source": [
    "play = list(bioloading.tabfile_feeder('output_raw_txtFile/fP1-01-TTD_target_download.txt'))\n",
    "\n",
    "big_list = []\n",
    "coll = []\n",
    "for i in play:\n",
    "    if len(i) == 0:\n",
    "        big_list.append(coll)\n",
    "        coll = []\n",
    "    else:\n",
    "        coll.append(i)"
   ]
  },
  {
   "cell_type": "code",
   "execution_count": 114,
   "metadata": {},
   "outputs": [
    {
     "name": "stdout",
     "output_type": "stream",
     "text": [
      "[['TTD - Therapeutic Targets Database Full Data Download File'], ['Title - TTD targets information in raw format'], ['Version 10.1.01 (2024.01.10)'], ['Provided by IDRB   Lab of Innovative Drug Reasearch and Bioinformatics'], ['                   College of Pharmaceutical Sciences'], ['                   Zhejiang University'], ['                   https://idrblab.org/'], ['Provided by BIDD   BioInformatic and Drug Design Group'], ['                   Department of Pharmacy'], ['                   National Unviersity of Singapore'], ['                   https://bidd.group/'], ['Any question about data provided here, please contact with:'], ['Dr. Zhou (zhou_ying@zju.edu.cn) and Dr. Zhang (zhangyintao@zju.edu.cn)']]\n",
      "[['--------------------------------------------------------------------------------------------------------'], ['Abbreviations:'], ['TARGETID', 'TTD Target ID'], ['FORMERID', 'TTD Former Target ID'], ['UNIPROID', 'Uniprot ID'], ['TARGNAME', 'Target Name'], ['GENENAME', 'Target Gene Name'], ['TARGTYPE', 'Target Type'], ['SYNONYMS', 'Synonyms'], ['FUNCTION', 'Function'], ['PDBSTRUC', 'PDB Structure'], ['BIOCLASS', 'BioChemical Class'], ['ECNUMBER', 'EC Number'], ['SEQUENCE', 'Sequence'], ['DRUGINFO', 'TTD Drug ID', 'Drug Name', 'Highest Clinical Status'], ['--------------------------------------------------------------------------------------------------------']]\n",
      "[['T47101', 'TARGETID', 'T47101'], ['T47101', 'FORMERID', 'TTDC00024'], ['T47101', 'UNIPROID', 'FGFR1_HUMAN'], ['T47101', 'TARGNAME', 'Fibroblast growth factor receptor 1 (FGFR1)'], ['T47101', 'GENENAME', 'FGFR1'], ['T47101', 'TARGTYPE', 'Successful'], ['T47101', 'SYNONYMS', 'c-fgr; bFGF-R-1; bFGF-R; N-sam; HBGFR; Fms-like tyrosine kinase 2; FLT2; FLT-2; FLG; FGFR-1; FGFBR; CEK; CD331 antigen; CD331; Basic fibroblast growth factor receptor 1; BFGFR'], ['T47101', 'FUNCTION', 'Required for normal mesoderm patterning and correct axial organization during embryonic development, normal skeletogenesis and normal development of the gonadotropin-releasing hormone (GnRH) neuronal system. Phosphorylates PLCG1, FRS2, GAB1 and SHB. Ligand binding leads to the activation of several signaling cascades. Activation of PLCG1 leads to the production of the cellular signaling molecules diacylglycerol and inositol 1,4,5-trisphosphate. Phosphorylation of FRS2 triggers recruitment of GRB2, GAB1, PIK3R1 and SOS1, and mediates activation of RAS, MAPK1/ERK2, MAPK3/ERK1 and the MAP kinase signaling pathway, as well as of the AKT1 signaling pathway. Promotes phosphorylation of SHC1, STAT1 and PTPN11/SHP2. In the nucleus, enhances RPS6KA1 and CREB1 activity and contributes to the regulation of transcription. FGFR1 signaling is down-regulated by IL17RD/SEF, and by FGFR1 ubiquitination, internalization and degradation. Tyrosine-protein kinase that acts as cell-surface receptor for fibroblast growth factors and plays an essential role in the regulation of embryonic development, cell proliferation, differentiation and migration.'], ['T47101', 'PDBSTRUC', '6MZW; 6MZQ; 6C1O; 6C1C; 6C1B'], ['T47101', 'BIOCLASS', 'Kinase'], ['T47101', 'ECNUMBER', 'EC 2.7.10.1'], ['T47101', 'SEQUENCE', 'MWSWKCLLFWAVLVTATLCTARPSPTLPEQAQPWGAPVEVESFLVHPGDLLQLRCRLRDDVQSINWLRDGVQLAESNRTRITGEEVEVQDSVPADSGLYACVTSSPSGSDTTYFSVNVSDALPSSEDDDDDDDSSSEEKETDNTKPNRMPVAPYWTSPEKMEKKLHAVPAAKTVKFKCPSSGTPNPTLRWLKNGKEFKPDHRIGGYKVRYATWSIIMDSVVPSDKGNYTCIVENEYGSINHTYQLDVVERSPHRPILQAGLPANKTVALGSNVEFMCKVYSDPQPHIQWLKHIEVNGSKIGPDNLPYVQILKTAGVNTTDKEMEVLHLRNVSFEDAGEYTCLAGNSIGLSHHSAWLTVLEALEERPAVMTSPLYLEIIIYCTGAFLISCMVGSVIVYKMKSGTKKSDFHSQMAVHKLAKSIPLRRQVTVSADSSASMNSGVLLVRPSRLSSSGTPMLAGVSEYELPEDPRWELPRDRLVLGKPLGEGCFGQVVLAEAIGLDKDKPNRVTKVAVKMLKSDATEKDLSDLISEMEMMKMIGKHKNIINLLGACTQDGPLYVIVEYASKGNLREYLQARRPPGLEYCYNPSHNPEEQLSSKDLVSCAYQVARGMEYLASKKCIHRDLAARNVLVTEDNVMKIADFGLARDIHHIDYYKKTTNGRLPVKWMAPEALFDRIYTHQSDVWSFGVLLWEIFTLGGSPYPGVPVEELFKLLKEGHRMDKPSNCTNELYMMMRDCWHAVPSQRPTFKQLVEDLDRIVALTSNQEYLDLSMPLDQYSPSFPDTRSSTCSSGEDSVFSHEPLPEEPCLPRHPAQLANGGLKRR'], ['T47101', 'DRUGINFO', 'D0O6UY', 'Pemigatinib', 'Approved'], ['T47101', 'DRUGINFO', 'D09HNV', 'Intedanib', 'Approved'], ['T47101', 'DRUGINFO', 'D01PZD', 'Romiplostim', 'Approved'], ['T47101', 'DRUGINFO', 'D07PQJ', 'ARQ-087', 'Phase 3'], ['T47101', 'DRUGINFO', 'D05PWX', 'Sulfatinib', 'Phase 3'], ['T47101', 'DRUGINFO', 'D0A1AQ', 'Rosiglitazone + metformin', 'Phase 3'], ['T47101', 'DRUGINFO', 'D02WVT', 'E-3810', 'Phase 3'], ['T47101', 'DRUGINFO', 'D0NU0U', 'AZD4547', 'Phase 2/3'], ['T47101', 'DRUGINFO', 'D08DFF', 'AM-001', 'Phase 2'], ['T47101', 'DRUGINFO', 'D08ZHL', 'FGF-1', 'Phase 2'], ['T47101', 'DRUGINFO', 'D0U2DO', 'FP-1039', 'Phase 2'], ['T47101', 'DRUGINFO', 'DR8CM0', 'MK-3655', 'Phase 2'], ['T47101', 'DRUGINFO', 'D0XT0W', 'Debio 1347', 'Phase 2'], ['T47101', 'DRUGINFO', 'D00DRL', 'MK-2461', 'Phase 1/2'], ['T47101', 'DRUGINFO', 'D0DJ0S', 'NGM313', 'Phase 1'], ['T47101', 'DRUGINFO', 'D00ABO', 'KW-2449', 'Phase 1'], ['T47101', 'DRUGINFO', 'D0LF0O', 'BMS-695735', 'Preclinical'], ['T47101', 'DRUGINFO', 'D0Z0KD', 'PD-0183812', 'Terminated'], ['T47101', 'DRUGINFO', 'D00JZS', 'Anti-FGFR1 mab program', 'Investigative'], ['T47101', 'DRUGINFO', 'D01AVF', 'SAR-106881', 'Investigative'], ['T47101', 'DRUGINFO', 'D04FNY', 'NP-506', 'Investigative'], ['T47101', 'DRUGINFO', 'D06FFZ', 'PMID26080733C7r', 'Investigative'], ['T47101', 'DRUGINFO', 'D06QUJ', '3-(3-methoxybenzyl)-1H-pyrrolo[2,3-b]pyridine', 'Investigative'], ['T47101', 'DRUGINFO', 'D07QMC', '3-Benzimidazol-2-ylhydroquinolin-2-one', 'Investigative'], ['T47101', 'DRUGINFO', 'D0EE6A', 'AAL-993', 'Investigative'], ['T47101', 'DRUGINFO', 'D0OH3J', 'PD-0179483', 'Investigative'], ['T47101', 'DRUGINFO', 'D0R6OM', 'ACTB-1003', 'Investigative'], ['T47101', 'DRUGINFO', 'D0S1KJ', 'PD-0173952', 'Investigative'], ['T47101', 'DRUGINFO', 'D0XC6G', '2-(1H-indazol-3-yl)-1H-benzo[d]imidazole', 'Investigative'], ['T47101', 'DRUGINFO', 'D0Z7GH', 'PD-0173958', 'Investigative'], ['T47101', 'DRUGINFO', 'D03NPX', 'PD-0173955', 'Investigative'], ['T47101', 'DRUGINFO', 'D0D5EW', 'HKI-9924129', 'Investigative'], ['T47101', 'DRUGINFO', 'D0GW4Q', 'PD-0173956', 'Investigative'], ['T47101', 'DRUGINFO', 'D0P3JW', 'PD-0166326', 'Investigative'], ['T47101', 'DRUGINFO', 'D0E7VO', 'PMID24900538C2c', 'Investigative'], ['T47101', 'DRUGINFO', 'D0C2GE', 'PMID22765894C8h', 'Investigative'], ['T47101', 'DRUGINFO', 'D09XIL', 'Ro-4396686', 'Investigative']]\n"
     ]
    }
   ],
   "source": [
    "print(big_list[0])\n",
    "print(big_list[1])\n",
    "print(big_list[2])"
   ]
  }
 ],
 "metadata": {
  "kernelspec": {
   "display_name": "dsc80",
   "language": "python",
   "name": "python3"
  },
  "language_info": {
   "codemirror_mode": {
    "name": "ipython",
    "version": 3
   },
   "file_extension": ".py",
   "mimetype": "text/x-python",
   "name": "python",
   "nbconvert_exporter": "python",
   "pygments_lexer": "ipython3",
   "version": "3.8.19"
  }
 },
 "nbformat": 4,
 "nbformat_minor": 2
}
